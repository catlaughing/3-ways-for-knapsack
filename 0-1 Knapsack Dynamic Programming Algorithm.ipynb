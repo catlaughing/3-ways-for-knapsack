{
 "cells": [
  {
   "cell_type": "code",
   "execution_count": 1,
   "metadata": {
    "collapsed": true
   },
   "outputs": [],
   "source": [
    "import numpy as np"
   ]
  },
  {
   "cell_type": "code",
   "execution_count": 9,
   "metadata": {
    "collapsed": true
   },
   "outputs": [],
   "source": [
    "def knapsack_dp(values,weights,n_items,capacity):\n",
    "#     check_inputs(values,weights,n_items,capacity)\n",
    "\n",
    "    table = np.zeros((n_items+1,capacity+1),dtype=np.float) # buat matrix untuk menyimpan hasil untuk setiap sub-problem\n",
    "    keep = np.zeros((n_items+1,capacity+1),dtype=np.float) #buat matrix untuk menyimpan benda apa saja yang akan dibawa\n",
    "\n",
    "    for i in range(1,n_items+1): # i adalah banyak item\n",
    "        for w in range(0,capacity+1): # w adalah max weight untuk setiap iterasi\n",
    "            wi = weights[i-1] # weight dari item sekarang\n",
    "            vi = values[i-1] # nilai dari item sekarang\n",
    "            \n",
    "            \n",
    "            # Jika item sekarang lebih ringan dari max weight dan solusi dengan item ini lebih baik dari solusi sekarang\n",
    "            # Maka solusi optimal nya akan diganti dengan yg lebih baik\n",
    "            if (wi <= w) and (vi + table[i-1,w-wi] > table[i-1,w]):\n",
    "                table[i,w] = vi + table[i-1,w-wi]\n",
    "                keep[i,w] = 1\n",
    "            # Jika tidak maka solusi optimal untuk item sebanyak i dan max weight sebanyak w minimal akan sama dengan\n",
    "            # solusi optimal dengan item sebanyak i-1\n",
    "            else:\n",
    "                table[i,w] = table[i-1,w]\n",
    "                \n",
    "    picks = []\n",
    "    K = capacity\n",
    "\n",
    "    for i in range(n_items,0,-1):\n",
    "        if keep[i,K] == 1:\n",
    "            picks.append(i)\n",
    "            K -= weights[i-1]\n",
    "\n",
    "    picks.sort()\n",
    "    picks = [x-1 for x in picks] # change to 0-index\n",
    "\n",
    "    max_val = table[n_items,capacity]\n",
    "    return picks,max_val"
   ]
  },
  {
   "cell_type": "code",
   "execution_count": 7,
   "metadata": {},
   "outputs": [
    {
     "name": "stdout",
     "output_type": "stream",
     "text": [
      "Masukkan banyak knapsack: 5\n",
      "Masukkan berat maksimal: 15\n"
     ]
    }
   ],
   "source": [
    "n = int(input(\"Masukkan banyak knapsack: \"))\n",
    "W_max = int(input(\"Masukkan berat maksimal: \"))"
   ]
  },
  {
   "cell_type": "code",
   "execution_count": 8,
   "metadata": {},
   "outputs": [
    {
     "name": "stdout",
     "output_type": "stream",
     "text": [
      "Knapsack ke- 1\n",
      "Value: 40\n",
      "Weight: 3\n",
      "\n",
      "Knapsack ke- 2\n",
      "Value: 45\n",
      "Weight: 9\n",
      "\n",
      "Knapsack ke- 3\n",
      "Value: 72\n",
      "Weight: 3\n",
      "\n",
      "Knapsack ke- 4\n",
      "Value: 77\n",
      "Weight: 6\n",
      "\n",
      "Knapsack ke- 5\n",
      "Value: 16\n",
      "Weight: 5\n",
      "\n"
     ]
    }
   ],
   "source": [
    "# knapsack = []\n",
    "v = list()\n",
    "w = list()\n",
    "for count in range(1,n+1):\n",
    "    print(\"Knapsack ke-\", count)\n",
    "    v.append(int(input(\"Value: \")))\n",
    "    w.append(int(input(\"Weight: \")))\n",
    "    print()"
   ]
  },
  {
   "cell_type": "code",
   "execution_count": 10,
   "metadata": {},
   "outputs": [
    {
     "name": "stdout",
     "output_type": "stream",
     "text": [
      "([0, 2, 3], 189.0)\n"
     ]
    }
   ],
   "source": [
    "picks = knapsack_dp(values,weights,n_items,capacity)\n",
    "print (picks)"
   ]
  }
 ],
 "metadata": {
  "kernelspec": {
   "display_name": "Python 3",
   "language": "python",
   "name": "python3"
  },
  "language_info": {
   "codemirror_mode": {
    "name": "ipython",
    "version": 3
   },
   "file_extension": ".py",
   "mimetype": "text/x-python",
   "name": "python",
   "nbconvert_exporter": "python",
   "pygments_lexer": "ipython3",
   "version": "3.6.3"
  }
 },
 "nbformat": 4,
 "nbformat_minor": 2
}
