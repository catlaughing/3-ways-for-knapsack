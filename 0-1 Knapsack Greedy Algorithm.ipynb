{
  "nbformat": 4,
  "nbformat_minor": 0,
  "metadata": {
    "colab": {
      "name": "0/1 Knapsack Greedy Algorithm",
      "version": "0.3.2",
      "provenance": [],
      "collapsed_sections": []
    },
    "kernelspec": {
      "name": "python3",
      "display_name": "Python 3"
    }
  },
  "cells": [
    {
      "metadata": {
        "id": "MrCc_FWuZtfj",
        "colab_type": "text"
      },
      "cell_type": "markdown",
      "source": [
        "**0/1 Knapsack Problem using (inefficient) Greedy Algorithm**\n",
        "\n",
        "---\n",
        "\n",
        "Rachmansyah Adhi Widhianto - 1301170066"
      ]
    },
    {
      "metadata": {
        "id": "F049kUchBKSw",
        "colab_type": "code",
        "colab": {}
      },
      "cell_type": "code",
      "source": [
        "# Deklarasi class\n",
        "class SimpleClass(object):\n",
        "    pass\n",
        "  \n",
        "def ratio(t):\n",
        "    return t.v/t.w"
      ],
      "execution_count": 0,
      "outputs": []
    },
    {
      "metadata": {
        "id": "eDBrAiTpJt-E",
        "colab_type": "code",
        "outputId": "5ba9e1aa-725b-43b3-88b0-3628d9fb54c6",
        "colab": {
          "base_uri": "https://localhost:8080/",
          "height": 52
        }
      },
      "cell_type": "code",
      "source": [
        "# Inisialisasi banyak knapsack dan maksimal weight\n",
        "n = input(\"Masukkan banyak knapsack: \")\n",
        "W_max = input(\"Masukkan berat maksimal: \")"
      ],
      "execution_count": 0,
      "outputs": [
        {
          "output_type": "stream",
          "text": [
            "Masukkan banyak knapsack: 3\n",
            "Masukkan berat maksimal: 60\n"
          ],
          "name": "stdout"
        }
      ]
    },
    {
      "metadata": {
        "id": "8RzeNQ5mJspY",
        "colab_type": "code",
        "outputId": "b45d60ba-2a3c-4aad-bad6-0fc55c6300a3",
        "colab": {
          "base_uri": "https://localhost:8080/",
          "height": 228
        }
      },
      "cell_type": "code",
      "source": [
        "# Inisialisasi knapsack\n",
        "knapsack = []\n",
        "for count in range(1,int(n)+1):\n",
        "    print(\"Knapsack ke-\", count)\n",
        "    x = SimpleClass()\n",
        "    x.i = count\n",
        "    x.v = int(input(\"Value: \"))\n",
        "    x.w = int(input(\"Weight: \"))\n",
        "    knapsack.append(x)\n",
        "    print()"
      ],
      "execution_count": 0,
      "outputs": [
        {
          "output_type": "stream",
          "text": [
            "Knapsack ke- 1\n",
            "Value: 120\n",
            "Weight: 20\n",
            "\n",
            "Knapsack ke- 2\n",
            "Value: 280\n",
            "Weight: 40\n",
            "\n",
            "Knapsack ke- 3\n",
            "Value: 100\n",
            "Weight: 10\n",
            "\n"
          ],
          "name": "stdout"
        }
      ]
    },
    {
      "metadata": {
        "id": "3Mv4Pg_2IT2a",
        "colab_type": "code",
        "outputId": "cc9f39ab-252c-4773-c184-4ed029a41ed7",
        "colab": {
          "base_uri": "https://localhost:8080/",
          "height": 281
        }
      },
      "cell_type": "code",
      "source": [
        "# Sort knapsack by ratio\n",
        "knapsack.sort(key=ratio,reverse=True)\n",
        "\n",
        "print(\"Sorted by Ratio\")\n",
        "for x in range(len(knapsack)): \n",
        "    print(\"Knapsack\", knapsack[x].i,\":\")\n",
        "    print(\"Value:\", knapsack[x].v)\n",
        "    print(\"Weight:\", knapsack[x].w)\n",
        "    print(\"Ratio:\", ratio(knapsack[x]))\n",
        "    print()"
      ],
      "execution_count": 0,
      "outputs": [
        {
          "output_type": "stream",
          "text": [
            "Knapsack 3 :\n",
            "Value: 100\n",
            "Weight: 10\n",
            "Ratio: 10.0\n",
            "\n",
            "Knapsack 2 :\n",
            "Value: 280\n",
            "Weight: 40\n",
            "Ratio: 7.0\n",
            "\n",
            "Knapsack 1 :\n",
            "Value: 120\n",
            "Weight: 20\n",
            "Ratio: 6.0\n",
            "\n"
          ],
          "name": "stdout"
        }
      ]
    },
    {
      "metadata": {
        "id": "CRZ7hkjbMgQn",
        "colab_type": "code",
        "colab": {}
      },
      "cell_type": "code",
      "source": [
        "#Ambil knapsack berdasarkan ratio\n",
        "W = 0\n",
        "V = 0\n",
        "taken = []\n",
        "\n",
        "for x in range(len(knapsack)):\n",
        "  if W+knapsack[x].w > int(W_max):\n",
        "    break\n",
        "  taken.append(knapsack[x]);\n",
        "  W += knapsack[x].w\n",
        "  V += knapsack[x].v"
      ],
      "execution_count": 0,
      "outputs": []
    },
    {
      "metadata": {
        "id": "Ko4ak6pWTaQL",
        "colab_type": "code",
        "outputId": "cc29b38b-502b-47c8-cf03-bedb2a23ed00",
        "colab": {
          "base_uri": "https://localhost:8080/",
          "height": 263
        }
      },
      "cell_type": "code",
      "source": [
        "#Print knapsack yang diambil, value yang didapat, dan weight yang didapat\n",
        "print('Banyak knapsack yang diambil:', len(taken))\n",
        "print('Value:',V)\n",
        "print('Weight:', W)\n",
        "print('Max Weight:', W_max)\n",
        "print()\n",
        "print('Knapsack yang diambil:')\n",
        "for x in range(len(taken)): \n",
        "    print(\"Knapsack\", taken[x].i,\":\")\n",
        "    print(\"Value:\", taken[x].v)\n",
        "    print(\"Weight:\", taken[x].w)\n",
        "    print()"
      ],
      "execution_count": 0,
      "outputs": [
        {
          "output_type": "stream",
          "text": [
            "Banyak knapsack yang diambil: 2\n",
            "Value: 380\n",
            "Weight: 50\n",
            "Max Weight: 60\n",
            "\n",
            "Knapsack yang diambil:\n",
            "Knapsack 3 :\n",
            "Value: 100\n",
            "Weight: 10\n",
            "\n",
            "Knapsack 2 :\n",
            "Value: 280\n",
            "Weight: 40\n",
            "\n"
          ],
          "name": "stdout"
        }
      ]
    },
    {
      "metadata": {
        "id": "E2HjgF5eT_rY",
        "colab_type": "code",
        "colab": {}
      },
      "cell_type": "code",
      "source": [
        ""
      ],
      "execution_count": 0,
      "outputs": []
    }
  ]
}