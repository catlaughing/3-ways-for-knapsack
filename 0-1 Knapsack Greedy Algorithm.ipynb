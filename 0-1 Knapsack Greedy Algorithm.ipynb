{
  "nbformat": 4,
  "nbformat_minor": 0,
  "metadata": {
    "colab": {
      "name": "0/1 Knapsack Greedy Algorithm",
      "version": "0.3.2",
      "provenance": [],
      "collapsed_sections": []
    },
    "kernelspec": {
      "name": "python3",
      "display_name": "Python 3"
    }
  },
  "cells": [
    {
      "metadata": {
        "id": "MrCc_FWuZtfj",
        "colab_type": "text"
      },
      "cell_type": "markdown",
      "source": [
        "# **0/1 Knapsack Problem using (inefficient) Greedy Algorithm**\n",
        "\n",
        "---\n",
        "\n",
        "Rachmansyah Adhi Widhianto - 1301170066"
      ]
    },
    {
      "metadata": {
        "id": "F049kUchBKSw",
        "colab_type": "code",
        "colab": {}
      },
      "cell_type": "code",
      "source": [
        "# Deklarasi class\n",
        "class SimpleClass(object):\n",
        "    pass\n",
        "  \n",
        "def ratio(t):\n",
        "    return t.v/t.w"
      ],
      "execution_count": 0,
      "outputs": []
    },
    {
      "metadata": {
        "id": "eDBrAiTpJt-E",
        "colab_type": "code",
        "colab": {}
      },
      "cell_type": "code",
      "source": [
        "# Inisialisasi banyak knapsack dan maksimal weight\n",
        "n = input(\"Masukkan banyak knapsack: \")\n",
        "W_max = input(\"Masukkan berat maksimal: \")"
      ],
      "execution_count": 0,
      "outputs": []
    },
    {
      "metadata": {
        "id": "8RzeNQ5mJspY",
        "colab_type": "code",
        "colab": {}
      },
      "cell_type": "code",
      "source": [
        "# Inisialisasi knapsack\n",
        "knapsack = []\n",
        "knapsack_weight = []\n",
        "knapsack_value = []\n",
        "knapsack_density = []\n",
        "\n",
        "for count in range(1,int(n)+1):\n",
        "    print(\"Knapsack ke-\", count)\n",
        "    x = SimpleClass()\n",
        "    x.i = count\n",
        "    x.v = int(input(\"Value: \"))\n",
        "    x.w = int(input(\"Weight: \"))\n",
        "    knapsack.append(x)\n",
        "    print()"
      ],
      "execution_count": 0,
      "outputs": []
    },
    {
      "metadata": {
        "id": "3Mv4Pg_2IT2a",
        "colab_type": "code",
        "colab": {}
      },
      "cell_type": "code",
      "source": [
        "# Sort knapsack by weight, value, and density yeah!\n",
        "\n",
        "knapsack_weight = knapsack.copy()\n",
        "knapsack_value = knapsack.copy()\n",
        "knapsack_density = knapsack.copy()\n",
        "\n",
        "# print(\"Sorted by Weight\")\n",
        "# for x in range(len(knapsack_weight)): \n",
        "#     print(\"Knapsack\", knapsack_weight[x].i,\":\")\n",
        "#     print(\"Value:\", knapsack_weight[x].v)\n",
        "#     print(\"Weight:\", knapsack_weight[x].w)\n",
        "#     print()\n",
        "\n",
        "# print(\"=====================================\")\n",
        "# print(\"Sorted by Value\")\n",
        "# for x in range(len(knapsack_value)): \n",
        "#     print(\"Knapsack\", knapsack_value[x].i,\":\")\n",
        "#     print(\"Value:\", knapsack_value[x].v)\n",
        "#     print(\"Weight:\", knapsack_value[x].w)\n",
        "#     print()\n",
        "\n",
        "# print(\"=====================================\")\n",
        "# print(\"Sorted by Density\")\n",
        "# for x in range(len(knapsack_density)): \n",
        "#     print(\"Knapsack\", knapsack_density[x].i,\":\")\n",
        "#     print(\"Value:\", knapsack_density[x].v)\n",
        "#     print(\"Weight:\", knapsack_density[x].w)\n",
        "#     print(\"Ratio:\", ratio(knapsack_density[x]))\n",
        "#     print()\n",
        "\n",
        "knapsack_weight.sort(key=lambda x : x.w,reverse=True)\n",
        "knapsack_value.sort(key=lambda x : x.v,reverse=True)\n",
        "knapsack_density.sort(key=ratio,reverse=True)\n",
        "\n",
        "# print(\"=====================================\")\n",
        "# print(\"Sorted by Weight\")\n",
        "# for x in range(len(knapsack_weight)): \n",
        "#     print(\"Knapsack\", knapsack_weight[x].i,\":\")\n",
        "#     print(\"Value:\", knapsack_weight[x].v)\n",
        "#     print(\"Weight:\", knapsack_weight[x].w)\n",
        "#     print()\n",
        "\n",
        "# print(\"=====================================\")\n",
        "# print(\"Sorted by Value\")\n",
        "# for x in range(len(knapsack_value)): \n",
        "#     print(\"Knapsack\", knapsack_value[x].i,\":\")\n",
        "#     print(\"Value:\", knapsack_value[x].v)\n",
        "#     print(\"Weight:\", knapsack_value[x].w)\n",
        "#     print()\n",
        "\n",
        "# print(\"=====================================\")\n",
        "# print(\"Sorted by Density\")\n",
        "# for x in range(len(knapsack_density)): \n",
        "#     print(\"Knapsack\", knapsack_density[x].i,\":\")\n",
        "#     print(\"Value:\", knapsack_density[x].v)\n",
        "#     print(\"Weight:\", knapsack_density[x].w)\n",
        "#     print(\"Ratio:\", ratio(knapsack_density[x]))\n",
        "#     print()"
      ],
      "execution_count": 0,
      "outputs": []
    },
    {
      "metadata": {
        "id": "CRZ7hkjbMgQn",
        "colab_type": "code",
        "colab": {}
      },
      "cell_type": "code",
      "source": [
        "#Ambil item berdasarkan density\n",
        "W_density = 0\n",
        "V_density = 0\n",
        "taken_density = []\n",
        "\n",
        "for x in range(len(knapsack_density)):\n",
        "  if W_density+knapsack_density[x].w > int(W_max):\n",
        "    break\n",
        "  taken_density.append(knapsack_density[x]);\n",
        "  W_density += knapsack_density[x].w\n",
        "  V_density += knapsack_density[x].v\n",
        "  \n",
        "#Print knapsack yang diambil, value yang didapat, dan weight yang didapat\n",
        "print('Greedy by Density')\n",
        "print('Banyak knapsack yang diambil:', len(taken_density))\n",
        "print('Value:',V_density)\n",
        "print('Weight:', W_density)\n",
        "print()\n",
        "print('Knapsack yang diambil:')\n",
        "for x in range(len(taken_density)): \n",
        "    print(\"Knapsack\", taken_density[x].i,\":\")\n",
        "    print(\"Value:\", taken_density[x].v)\n",
        "    print(\"Weight:\", taken_density[x].w)\n",
        "    print()"
      ],
      "execution_count": 0,
      "outputs": []
    },
    {
      "metadata": {
        "id": "Ko4ak6pWTaQL",
        "colab_type": "code",
        "colab": {}
      },
      "cell_type": "code",
      "source": [
        "#Ambil item berdasarkan weight\n",
        "W_weight = 0\n",
        "V_weight = 0\n",
        "taken_weight = []\n",
        "\n",
        "for x in range(len(knapsack_weight)):\n",
        "  if W_weight+knapsack_weight[x].w > int(W_max):\n",
        "    break\n",
        "  taken_weight.append(knapsack_weight[x]);\n",
        "  W_weight += knapsack_weight[x].w\n",
        "  V_weight += knapsack_weight[x].v\n",
        "  \n",
        "#Print knapsack yang diambil, value yang didapat, dan weight yang didapat\n",
        "print('Greedy by Weight')\n",
        "print('Banyak knapsack yang diambil:', len(taken_weight))\n",
        "print('Value:',V_weight)\n",
        "print('Weight:', W_weight)\n",
        "print()\n",
        "print('Knapsack yang diambil:')\n",
        "for x in range(len(taken_weight)): \n",
        "    print(\"Knapsack\", taken_weight[x].i,\":\")\n",
        "    print(\"Value:\", taken_weight[x].v)\n",
        "    print(\"Weight:\", taken_weight[x].w)\n",
        "    print()"
      ],
      "execution_count": 0,
      "outputs": []
    },
    {
      "metadata": {
        "id": "E2HjgF5eT_rY",
        "colab_type": "code",
        "colab": {}
      },
      "cell_type": "code",
      "source": [
        "#Ambil item berdasarkan value\n",
        "W_value = 0\n",
        "V_value = 0\n",
        "taken_value = []\n",
        "\n",
        "for x in range(len(knapsack_value)):\n",
        "  if W_value+knapsack_value[x].w > int(W_max):\n",
        "    break\n",
        "  taken_value.append(knapsack_value[x]);\n",
        "  W_value += knapsack_value[x].w\n",
        "  V_value += knapsack_value[x].v\n",
        "  \n",
        "#Print knapsack yang diambil, value yang didapat, dan weight yang didapat\n",
        "print('Greedy by Value')\n",
        "print('Banyak knapsack yang diambil:', len(taken_value))\n",
        "print('Value:',V_value)\n",
        "print('Weight:', W_value)\n",
        "print()\n",
        "print('Knapsack yang diambil:')\n",
        "for x in range(len(taken_value)): \n",
        "    print(\"Knapsack\", taken_value[x].i,\":\")\n",
        "    print(\"Value:\", taken_value[x].v)\n",
        "    print(\"Weight:\", taken_value[x].w)\n",
        "    print()"
      ],
      "execution_count": 0,
      "outputs": []
    },
    {
      "metadata": {
        "id": "lHKQzI9MPfEY",
        "colab_type": "code",
        "colab": {}
      },
      "cell_type": "code",
      "source": [
        ""
      ],
      "execution_count": 0,
      "outputs": []
    }
  ]
}